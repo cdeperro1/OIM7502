{
 "cells": [
  {
   "cell_type": "markdown",
   "id": "9383bafa",
   "metadata": {},
   "source": [
    "### Python Programming Concepts"
   ]
  },
  {
   "cell_type": "markdown",
   "id": "17df7d6e",
   "metadata": {},
   "source": [
    "#### 1. Create a variable to store the value 500 for sales"
   ]
  },
  {
   "cell_type": "code",
   "execution_count": 83,
   "id": "a5f43c2f",
   "metadata": {},
   "outputs": [
    {
     "data": {
      "text/plain": [
       "500"
      ]
     },
     "execution_count": 83,
     "metadata": {},
     "output_type": "execute_result"
    }
   ],
   "source": [
    "sales = 500\n",
    "sales"
   ]
  },
  {
   "cell_type": "markdown",
   "id": "6dc8b9ea",
   "metadata": {},
   "source": [
    "#### 2. Create a variable to store several values:  \n",
    "* sales: 500, 475, 625\n",
    "* integers 1 - 9 "
   ]
  },
  {
   "cell_type": "code",
   "execution_count": 95,
   "id": "902fe3bd",
   "metadata": {},
   "outputs": [
    {
     "data": {
      "text/plain": [
       "(500, 475, 625)"
      ]
     },
     "execution_count": 95,
     "metadata": {},
     "output_type": "execute_result"
    }
   ],
   "source": [
    "sales = 500, 475,  625\n",
    "sales"
   ]
  },
  {
   "cell_type": "code",
   "execution_count": 97,
   "id": "78231d7a-5aaf-4a67-802d-6d50d988af2b",
   "metadata": {},
   "outputs": [
    {
     "data": {
      "text/plain": [
       "[1, 2, 3, 4, 5, 6, 7, 8, 9]"
      ]
     },
     "execution_count": 97,
     "metadata": {},
     "output_type": "execute_result"
    }
   ],
   "source": [
    "integers = list(range(1,10))\n",
    "integers"
   ]
  },
  {
   "cell_type": "markdown",
   "id": "62e55953",
   "metadata": {},
   "source": [
    "#### 3. Create a variable to store the names and email addresses for a number of customers\n",
    "* John, john@some.com; Ann, ann@some.com"
   ]
  },
  {
   "cell_type": "code",
   "execution_count": 109,
   "id": "03f2b161",
   "metadata": {},
   "outputs": [
    {
     "name": "stdout",
     "output_type": "stream",
     "text": [
      "[('John', 'john@some.com'), ('Ann', 'ann@some.com')]\n"
     ]
    }
   ],
   "source": [
    "customers = [(\"John\", \"john@some.com\"), (\"Ann\", \"ann@some.com\")]\n",
    "print(customers)"
   ]
  },
  {
   "cell_type": "markdown",
   "id": "d6b1e8c6",
   "metadata": {},
   "source": [
    "#### 4. Use Python to generate a random value based on each of following:\n",
    "1. between 0 and 1\n",
    "2. the standard normal distribution (rounded to two decimal places)\n",
    "3. a value between 1 and 10\n",
    "4. either H or T"
   ]
  },
  {
   "cell_type": "code",
   "execution_count": 99,
   "id": "f004d7b5",
   "metadata": {},
   "outputs": [
    {
     "name": "stdout",
     "output_type": "stream",
     "text": [
      "0.3160158437481102\n"
     ]
    }
   ],
   "source": [
    "import random\n",
    "random_float = random.random()\n",
    "print(random_float)"
   ]
  },
  {
   "cell_type": "code",
   "execution_count": 117,
   "id": "a8efc6fc",
   "metadata": {},
   "outputs": [
    {
     "data": {
      "text/plain": [
       "-0.28"
      ]
     },
     "execution_count": 117,
     "metadata": {},
     "output_type": "execute_result"
    }
   ],
   "source": [
    "round(random.normalvariate(),2)"
   ]
  },
  {
   "cell_type": "code",
   "execution_count": 105,
   "id": "1a29e601",
   "metadata": {},
   "outputs": [
    {
     "name": "stdout",
     "output_type": "stream",
     "text": [
      "9\n"
     ]
    }
   ],
   "source": [
    "import random \n",
    "random_value = random.randint(1,10)\n",
    "print(random_value)"
   ]
  },
  {
   "cell_type": "code",
   "execution_count": 107,
   "id": "3a150c3e",
   "metadata": {},
   "outputs": [
    {
     "name": "stdout",
     "output_type": "stream",
     "text": [
      "T\n"
     ]
    }
   ],
   "source": [
    "import random\n",
    "value = random.choice([\"H\",\"T\"])\n",
    "print(value)"
   ]
  },
  {
   "cell_type": "code",
   "execution_count": 119,
   "id": "645c5e19-8a39-47f9-b27c-334a08f7cf1b",
   "metadata": {},
   "outputs": [
    {
     "data": {
      "text/plain": [
       "'H'"
      ]
     },
     "execution_count": 119,
     "metadata": {},
     "output_type": "execute_result"
    }
   ],
   "source": [
    "random.choice('HT')"
   ]
  },
  {
   "cell_type": "code",
   "execution_count": 131,
   "id": "98eff996-1caa-4032-83bd-2e1e52545401",
   "metadata": {},
   "outputs": [
    {
     "data": {
      "text/plain": [
       "['H', 'H', '', '', 'H', '', '', '']"
      ]
     },
     "execution_count": 131,
     "metadata": {},
     "output_type": "execute_result"
    }
   ],
   "source": [
    "flips =''\n",
    "for flip in range(10):\n",
    "    flips = flips + random.choice('HT')\n",
    "flips\n",
    "\n",
    "flips.split('T')"
   ]
  },
  {
   "cell_type": "markdown",
   "id": "7eddf06a",
   "metadata": {},
   "source": [
    "#### 5. Use Python to determine your current working directory"
   ]
  },
  {
   "cell_type": "code",
   "execution_count": 29,
   "id": "d8f79474",
   "metadata": {},
   "outputs": [
    {
     "name": "stdout",
     "output_type": "stream",
     "text": [
      "/Users/christinadeperro/Desktop/OIM7502/OIM7502_SP25\n"
     ]
    }
   ],
   "source": [
    "import os \n",
    "cwd = os.getcwd()\n",
    "print(cwd)"
   ]
  },
  {
   "cell_type": "markdown",
   "id": "fc43ec50",
   "metadata": {},
   "source": [
    "#### 6. Use Python to determine how many days until New Year's Day"
   ]
  },
  {
   "cell_type": "code",
   "execution_count": 37,
   "id": "13f630fe",
   "metadata": {},
   "outputs": [
    {
     "name": "stdout",
     "output_type": "stream",
     "text": [
      "There are 344 days until New Year's Day.\n"
     ]
    }
   ],
   "source": [
    "from datetime import datetime\n",
    "\n",
    "def days_until_new_year():\n",
    "    today = datetime.today()\n",
    "    new_year = datetime(today.year + 1, 1, 1)\n",
    "    return (new_year - today).days\n",
    "\n",
    "days_left = days_until_new_year()\n",
    "print(f\"There are {days_left} days until New Year's Day.\")"
   ]
  },
  {
   "cell_type": "markdown",
   "id": "2ba4ea92",
   "metadata": {},
   "source": [
    "#### 7. Write a short program that displays the future value of 1,000 earning 5%  at the end of each year for the next 5 years"
   ]
  },
  {
   "cell_type": "code",
   "execution_count": 129,
   "id": "6fef4a8c",
   "metadata": {},
   "outputs": [
    {
     "name": "stdout",
     "output_type": "stream",
     "text": [
      "Year 1: $1050.00\n",
      "Year 2: $1102.50\n",
      "Year 3: $1157.63\n",
      "Year 4: $1215.51\n",
      "Year 5: $1276.28\n"
     ]
    }
   ],
   "source": [
    "def calculate_future_value(present_value, interest_rate, years):\n",
    "    future_value = present_value * (1 + interest_rate) ** years\n",
    "    return future_value\n",
    "\n",
    "present_value = 1000\n",
    "interest_rate = 0.05\n",
    "years = 5\n",
    "\n",
    "for year in range(1, years + 1):\n",
    "    future_value = calculate_future_value(present_value, interest_rate, year)\n",
    "    print(f\"Year {year}: ${future_value:.2f}\")"
   ]
  },
  {
   "cell_type": "markdown",
   "id": "150201c8",
   "metadata": {},
   "source": [
    "#### 8. Write a short program that prompts a user to enter a stock symbol and press enter. Add each symbol entered to a variable. The program should run until the user presses the enter key without entering anything (empty string) "
   ]
  },
  {
   "cell_type": "code",
   "execution_count": null,
   "id": "931a346f",
   "metadata": {},
   "outputs": [],
   "source": [
    "I couldn't get this to work"
   ]
  },
  {
   "cell_type": "markdown",
   "id": "fc2a7592",
   "metadata": {},
   "source": [
    "#### 9. Write the code necessary to calculate the sum of the square differences of a group of values : \n",
    "58, 32, 37, 41, 36, 36, 54, 37, 25, 53\n",
    "##### $\\Sigma $(${x}$ - $\\bar{x}$)$^2$"
   ]
  },
  {
   "cell_type": "code",
   "execution_count": 49,
   "id": "13d9a6c5",
   "metadata": {},
   "outputs": [
    {
     "name": "stdout",
     "output_type": "stream",
     "text": [
      "1020.9\n"
     ]
    }
   ],
   "source": [
    "values = [58, 32, 37, 41, 36, 36, 54, 37, 25, 53]\n",
    "mean = sum(values) / len(values)\n",
    "squared_diffs = [(x - mean) ** 2 for x in values]\n",
    "sum_of_squared_diffs = sum(squared_diffs)\n",
    "print(sum_of_squared_diffs)"
   ]
  },
  {
   "cell_type": "markdown",
   "id": "6d6f2e64",
   "metadata": {},
   "source": [
    "#### 10. Opening, reading and writing files"
   ]
  },
  {
   "cell_type": "code",
   "execution_count": 53,
   "id": "f7fa569d",
   "metadata": {},
   "outputs": [],
   "source": [
    "with open('numbers.txt', 'r+') as file:\n",
    "        content = file.read()"
   ]
  },
  {
   "cell_type": "markdown",
   "id": "eec548d6",
   "metadata": {},
   "source": [
    "#### 11. Create a function the will simulate rolling two die and return the value of each and and the sum "
   ]
  },
  {
   "cell_type": "code",
   "execution_count": 5,
   "id": "bb115cdc",
   "metadata": {},
   "outputs": [],
   "source": [
    "import random \n",
    "\n",
    "def roll_dice():\n",
    "    die1 = random.randint(1, 6)\n",
    "    die2 = random.randint(1, 6)\n",
    "    return (die1, die2, die1 + die2)"
   ]
  },
  {
   "cell_type": "markdown",
   "id": "21556d7f",
   "metadata": {},
   "source": [
    "#### 12. Write the code needed to evaluate whether a value in a group of values is negative or postive and prints an approriate message, i.e. postive, negative \n",
    "-1.59, 2.36, 1.69, 1.13, -0.91, 1.48, -0.34, 1.31, -0.74, 0.2"
   ]
  },
  {
   "cell_type": "code",
   "execution_count": 63,
   "id": "d6c38ecb",
   "metadata": {},
   "outputs": [],
   "source": [
    "def evaluate_values(values):\n",
    "    for value in values:\n",
    "        if value > 0:\n",
    "            print(f\"{value} is positive\")\n",
    "        elif value < 0:\n",
    "            print(f\"{value} is negative\")\n",
    "        else:\n",
    "            print(f\"{value} is zero\")"
   ]
  },
  {
   "cell_type": "code",
   "execution_count": 65,
   "id": "aaefba17",
   "metadata": {},
   "outputs": [
    {
     "name": "stdout",
     "output_type": "stream",
     "text": [
      "-1.59 is negative\n",
      "2.36 is positive\n",
      "1.69 is positive\n",
      "1.13 is positive\n",
      "-0.91 is negative\n",
      "1.48 is positive\n",
      "-0.34 is negative\n",
      "1.31 is positive\n",
      "-0.74 is negative\n",
      "0.2 is positive\n"
     ]
    }
   ],
   "source": [
    "numbers = [-1.59, 2.36, 1.69, 1.13, -0.91, 1.48, -0.34, 1.31, -0.74, 0.2]\n",
    "evaluate_values(numbers)"
   ]
  },
  {
   "cell_type": "markdown",
   "id": "8cafe65c",
   "metadata": {},
   "source": [
    "#### 14.  Complete the following:\n",
    "1. Write a program that generates 500 random integers from 1 to n, for example, the first integer will be 1 the second will be 1 or 2, the fifth between 1 and 5, and so on.\n",
    "2. The program should write each integer to a file \n",
    "3. Once all integers are written close the file\n",
    "\n",
    "##### Part 2\n",
    "1. Open and read the file into a list\n",
    "2. Create a line plot of the data"
   ]
  },
  {
   "cell_type": "code",
   "execution_count": 11,
   "id": "60a910bb",
   "metadata": {},
   "outputs": [],
   "source": [
    "import random"
   ]
  },
  {
   "cell_type": "code",
   "execution_count": 25,
   "id": "d6b4180c",
   "metadata": {},
   "outputs": [],
   "source": [
    "def generate_random_numbers(n, count=500):\n",
    "    random_numbers=[]\n",
    "    for i in range(count):\n",
    "        random_numbers.append(random.randint(1, min(i+1, n)))\n",
    "    return random_numbers"
   ]
  },
  {
   "cell_type": "code",
   "execution_count": 31,
   "id": "adb6aa11",
   "metadata": {},
   "outputs": [],
   "source": [
    "n=25\n",
    "result = generate_random_numbers(n)"
   ]
  },
  {
   "cell_type": "code",
   "execution_count": 33,
   "id": "6745da79",
   "metadata": {},
   "outputs": [
    {
     "name": "stdout",
     "output_type": "stream",
     "text": [
      "[1, 2, 2, 4, 2, 2, 2, 5, 4, 10, 9, 8, 11, 5, 8, 5, 2, 13, 14, 2, 5, 4, 13, 7, 21, 4, 14, 15, 5, 3, 11, 7, 6, 5, 9, 3, 5, 20, 5, 16, 10, 10, 4, 25, 20, 5, 18, 20, 5, 8, 6, 3, 4, 5, 4, 22, 12, 20, 20, 19, 11, 12, 2, 16, 7, 4, 2, 16, 22, 11, 7, 13, 7, 10, 4, 24, 18, 17, 12, 4, 23, 19, 24, 9, 3, 23, 16, 3, 20, 6, 15, 19, 23, 4, 21, 14, 7, 25, 24, 7, 19, 18, 17, 12, 5, 6, 20, 23, 4, 5, 23, 21, 17, 15, 23, 14, 14, 20, 11, 24, 11, 8, 18, 2, 9, 17, 1, 24, 9, 5, 9, 11, 15, 19, 18, 18, 24, 18, 19, 5, 20, 14, 7, 22, 15, 13, 6, 25, 7, 14, 12, 20, 18, 9, 22, 15, 4, 18, 15, 7, 18, 17, 8, 14, 1, 1, 12, 7, 20, 19, 14, 14, 21, 25, 14, 18, 24, 25, 13, 20, 3, 16, 13, 13, 15, 12, 16, 3, 7, 21, 4, 21, 8, 12, 21, 20, 9, 19, 11, 23, 12, 25, 23, 13, 13, 9, 23, 21, 20, 11, 2, 18, 13, 11, 18, 15, 22, 15, 11, 20, 23, 8, 12, 3, 6, 22, 24, 12, 11, 14, 1, 7, 24, 18, 18, 20, 12, 13, 16, 23, 25, 12, 22, 11, 21, 5, 16, 20, 13, 14, 15, 5, 10, 10, 21, 9, 25, 15, 15, 3, 9, 7, 7, 2, 6, 3, 25, 19, 23, 12, 11, 16, 21, 20, 5, 13, 24, 11, 21, 14, 4, 11, 24, 16, 21, 20, 8, 14, 16, 3, 6, 7, 16, 9, 7, 16, 6, 3, 24, 16, 22, 11, 11, 3, 9, 18, 19, 4, 10, 20, 23, 15, 6, 12, 13, 20, 7, 17, 21, 14, 8, 4, 21, 5, 10, 12, 21, 20, 4, 23, 17, 17, 3, 22, 16, 16, 13, 14, 17, 18, 5, 1, 12, 15, 3, 14, 23, 5, 2, 25, 20, 15, 22, 9, 7, 1, 8, 17, 4, 22, 4, 6, 5, 1, 15, 1, 15, 3, 20, 17, 19, 15, 9, 17, 15, 13, 3, 7, 13, 7, 8, 14, 5, 10, 16, 5, 12, 1, 6, 25, 13, 20, 23, 22, 10, 15, 14, 21, 20, 17, 10, 9, 12, 19, 8, 9, 13, 10, 8, 2, 10, 4, 2, 4, 5, 22, 10, 19, 14, 10, 11, 2, 9, 10, 2, 21, 1, 11, 24, 21, 14, 10, 12, 15, 9, 24, 18, 4, 22, 21, 12, 14, 2, 11, 20, 8, 17, 23, 11, 19, 1, 10, 3, 11, 7, 10, 12, 15, 22, 9, 23, 19, 13, 15, 9, 18, 23, 9, 25, 2, 16, 5, 23, 23, 16, 6, 21, 2, 17, 8, 4, 20, 25, 18, 4, 7, 21, 16, 16, 22, 10, 7, 19, 12, 8, 25, 14, 6, 5, 16]\n"
     ]
    }
   ],
   "source": [
    "print(result)"
   ]
  },
  {
   "cell_type": "code",
   "execution_count": 45,
   "id": "21140445",
   "metadata": {},
   "outputs": [],
   "source": [
    "number = 25\n",
    "with open('numbers.txt', 'w') as file:\n",
    "        file.write(str(number))"
   ]
  },
  {
   "cell_type": "code",
   "execution_count": 49,
   "id": "3d546600",
   "metadata": {},
   "outputs": [],
   "source": [
    "file = open(\"numbers.txt\", \"r\")\n",
    "file.close()"
   ]
  }
 ],
 "metadata": {
  "kernelspec": {
   "display_name": "Python 3 (ipykernel)",
   "language": "python",
   "name": "python3"
  },
  "language_info": {
   "codemirror_mode": {
    "name": "ipython",
    "version": 3
   },
   "file_extension": ".py",
   "mimetype": "text/x-python",
   "name": "python",
   "nbconvert_exporter": "python",
   "pygments_lexer": "ipython3",
   "version": "3.12.4"
  }
 },
 "nbformat": 4,
 "nbformat_minor": 5
}
