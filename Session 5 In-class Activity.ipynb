{
 "cells": [
  {
   "cell_type": "code",
   "execution_count": 401,
   "id": "d86b4267-c97e-4162-acca-3170f2982dd7",
   "metadata": {},
   "outputs": [],
   "source": [
    "import pandas as pd"
   ]
  },
  {
   "cell_type": "code",
   "execution_count": 403,
   "id": "85d8f8a3-07b6-42e7-8a92-19e0f0b4ddfe",
   "metadata": {},
   "outputs": [
    {
     "name": "stdout",
     "output_type": "stream",
     "text": [
      "    Sell   \"List\"   \"Living\"   \"Rooms\"   \"Beds\"   \"Baths\"   \"Age\"   \"Acres\"  \\\n",
      "0    142      160         28        10        5         3      60      0.28   \n",
      "1    175      180         18         8        4         1      12      0.43   \n",
      "2    129      132         13         6        3         1      41      0.33   \n",
      "3    138      140         17         7        3         1      22      0.46   \n",
      "4    232      240         25         8        4         3       5      2.05   \n",
      "5    135      140         18         7        4         3       9      0.57   \n",
      "6    150      160         20         8        4         3      18      4.00   \n",
      "7    207      225         22         8        4         2      16      2.22   \n",
      "8    271      285         30        10        5         2      30      0.53   \n",
      "9     89       90         10         5        3         1      43      0.30   \n",
      "10   153      157         22         8        3         3      18      0.38   \n",
      "11    87       90         16         7        3         1      50      0.65   \n",
      "12   234      238         25         8        4         2       2      1.61   \n",
      "13   106      116         20         8        4         1      13      0.22   \n",
      "14   175      180         22         8        4         2      15      2.06   \n",
      "15   165      170         17         8        4         2      33      0.46   \n",
      "16   166      170         23         9        4         2      37      0.27   \n",
      "17   136      140         19         7        3         1      22      0.63   \n",
      "18   148      160         17         7        3         2      13      0.36   \n",
      "19   151      153         19         8        4         2      24      0.34   \n",
      "20   180      190         24         9        4         2      10      1.55   \n",
      "21   293      305         26         8        4         3       6      0.46   \n",
      "22   167      170         20         9        4         2      46      0.46   \n",
      "23   190      193         22         9        5         2      37      0.48   \n",
      "24   184      190         21         9        5         2      27      1.30   \n",
      "25   157      165         20         8        4         2       7      0.30   \n",
      "26   110      115         16         8        4         1      26      0.29   \n",
      "27   135      145         18         7        4         1      35      0.43   \n",
      "28   567      625         64        11        4         4       4      0.85   \n",
      "29   180      185         20         8        4         2      11      1.00   \n",
      "30   183      188         17         7        3         2      16      3.00   \n",
      "31   185      193         20         9        3         2      56      6.49   \n",
      "32   152      155         17         8        4         1      33      0.70   \n",
      "33   148      153         13         6        3         2      22      0.39   \n",
      "34   152      159         15         7        3         1      25      0.59   \n",
      "35   146      150         16         7        3         1      31      0.36   \n",
      "36   170      190         24        10        3         2      33      0.57   \n",
      "37   127      130         20         8        4         1      65      0.40   \n",
      "38   265      270         36        10        6         3      33      1.20   \n",
      "39   157      163         18         8        4         2      12      1.13   \n",
      "40   128      135         17         9        4         1      25      0.52   \n",
      "41   110      120         15         8        4         2      11      0.59   \n",
      "42   123      130         18         8        4         2      43      0.39   \n",
      "43   212      230         39        12        5         3     202      4.29   \n",
      "44   145      145         18         8        4         2      44      0.22   \n",
      "45   129      135         10         6        3         1      15      1.00   \n",
      "46   143      145         21         7        4         2      10      1.20   \n",
      "47   247      252         29         9        4         2       4      1.25   \n",
      "48   111      120         15         8        3         1      97      1.11   \n",
      "49   133      145         26         7        3         1      42      0.36   \n",
      "\n",
      "     \"Taxes\"  \n",
      "0       3167  \n",
      "1       4033  \n",
      "2       1471  \n",
      "3       3204  \n",
      "4       3613  \n",
      "5       3028  \n",
      "6       3131  \n",
      "7       5158  \n",
      "8       5702  \n",
      "9       2054  \n",
      "10      4127  \n",
      "11      1445  \n",
      "12      2087  \n",
      "13      2818  \n",
      "14      3917  \n",
      "15      2220  \n",
      "16      3498  \n",
      "17      3607  \n",
      "18      3648  \n",
      "19      3561  \n",
      "20      4681  \n",
      "21      7088  \n",
      "22      3482  \n",
      "23      3920  \n",
      "24      4162  \n",
      "25      3785  \n",
      "26      3103  \n",
      "27      3363  \n",
      "28     12192  \n",
      "29      3831  \n",
      "30      3564  \n",
      "31      3765  \n",
      "32      3361  \n",
      "33      3950  \n",
      "34      3055  \n",
      "35      2950  \n",
      "36      3346  \n",
      "37      3334  \n",
      "38      5853  \n",
      "39      3982  \n",
      "40      3374  \n",
      "41      3119  \n",
      "42      3268  \n",
      "43      3648  \n",
      "44      2783  \n",
      "45      2438  \n",
      "46      3529  \n",
      "47      4626  \n",
      "48      3205  \n",
      "49      3059  \n"
     ]
    }
   ],
   "source": [
    "file_path = '/users/christinadeperro/desktop/OIM7502/OIM7502_SP25/data/homes.csv'\n",
    "try:\n",
    "    df = pd.read_csv(file_path)\n",
    "    print(df)\n",
    "except FileNotFoundError:\n",
    "    print(f\"Error: File not found at {file_path}\")\n",
    "except Exception as e:\n",
    "    print(f\"An error occurred: {e}\")"
   ]
  },
  {
   "cell_type": "code",
   "execution_count": 405,
   "id": "d5c4983f-7635-4b06-bf97-8d809f60361f",
   "metadata": {},
   "outputs": [
    {
     "name": "stdout",
     "output_type": "stream",
     "text": [
      "             Sell      \"List\"   \"Living\"    \"Rooms\"     \"Beds\"    \"Baths\"  \\\n",
      "count   50.000000   50.000000  50.000000  50.000000  50.000000  50.000000   \n",
      "mean   170.360000  178.340000  21.120000   8.060000   3.820000   1.860000   \n",
      "std     72.755885   79.382723   8.351072   1.284285   0.690755   0.756199   \n",
      "min     87.000000   90.000000  10.000000   5.000000   3.000000   1.000000   \n",
      "25%    135.000000  140.000000  17.000000   7.000000   3.000000   1.000000   \n",
      "50%    152.000000  160.000000  20.000000   8.000000   4.000000   2.000000   \n",
      "75%    182.250000  190.000000  22.750000   9.000000   4.000000   2.000000   \n",
      "max    567.000000  625.000000  64.000000  12.000000   6.000000   4.000000   \n",
      "\n",
      "            \"Age\"    \"Acres\"       \"Taxes\"  \n",
      "count   50.000000  50.000000     50.000000  \n",
      "mean    30.220000   1.020600   3706.100000  \n",
      "std     30.962314   1.191496   1579.915268  \n",
      "min      2.000000   0.220000   1445.000000  \n",
      "25%     12.250000   0.382500   3107.000000  \n",
      "50%     24.500000   0.550000   3490.000000  \n",
      "75%     37.000000   1.182500   3919.250000  \n",
      "max    202.000000   6.490000  12192.000000  \n"
     ]
    }
   ],
   "source": [
    "print(df.describe(include='all'))"
   ]
  },
  {
   "cell_type": "markdown",
   "id": "b45cf641-1ee0-473f-aade-dbb1d974da9e",
   "metadata": {},
   "source": [
    "This dataset tells us there is a total count of 50 houses listed for sale. The mean tells us the average out of all the 50 houses listed (average selling price, listing price, # of living rooms, # of rooms, # of beds, # of baths, how old the home is, # of acres and tax amounts on the property). STD represents standard deviation, telling us the average variability in the results for each metric (the higher the number, the more variance there is between all the 50 values listed for that specific metric). Min shows the minimum values listed for the selling price, listing price and # of rooms, etc. Max shows the maximum values listed. The percentile buckets reflect the proportion of the values (example: the selling price of 135 falls under the 25 percentile, meaning 25% of the total values are less than 135)."
   ]
  },
  {
   "cell_type": "code",
   "execution_count": 407,
   "id": "64243da3-9ba3-4e83-890d-a2dac2fd4292",
   "metadata": {},
   "outputs": [
    {
     "name": "stdout",
     "output_type": "stream",
     "text": [
      "    Sell  List  Living  Rooms  Beds  Baths  Age  Acres  Taxes\n",
      "0    142   160      28     10     5      3   60   0.28   3167\n",
      "1    175   180      18      8     4      1   12   0.43   4033\n",
      "2    129   132      13      6     3      1   41   0.33   1471\n",
      "3    138   140      17      7     3      1   22   0.46   3204\n",
      "4    232   240      25      8     4      3    5   2.05   3613\n",
      "5    135   140      18      7     4      3    9   0.57   3028\n",
      "6    150   160      20      8     4      3   18   4.00   3131\n",
      "7    207   225      22      8     4      2   16   2.22   5158\n",
      "8    271   285      30     10     5      2   30   0.53   5702\n",
      "9     89    90      10      5     3      1   43   0.30   2054\n",
      "10   153   157      22      8     3      3   18   0.38   4127\n",
      "11    87    90      16      7     3      1   50   0.65   1445\n",
      "12   234   238      25      8     4      2    2   1.61   2087\n",
      "13   106   116      20      8     4      1   13   0.22   2818\n",
      "14   175   180      22      8     4      2   15   2.06   3917\n",
      "15   165   170      17      8     4      2   33   0.46   2220\n",
      "16   166   170      23      9     4      2   37   0.27   3498\n",
      "17   136   140      19      7     3      1   22   0.63   3607\n",
      "18   148   160      17      7     3      2   13   0.36   3648\n",
      "19   151   153      19      8     4      2   24   0.34   3561\n",
      "20   180   190      24      9     4      2   10   1.55   4681\n",
      "21   293   305      26      8     4      3    6   0.46   7088\n",
      "22   167   170      20      9     4      2   46   0.46   3482\n",
      "23   190   193      22      9     5      2   37   0.48   3920\n",
      "24   184   190      21      9     5      2   27   1.30   4162\n",
      "25   157   165      20      8     4      2    7   0.30   3785\n",
      "26   110   115      16      8     4      1   26   0.29   3103\n",
      "27   135   145      18      7     4      1   35   0.43   3363\n",
      "28   567   625      64     11     4      4    4   0.85  12192\n",
      "29   180   185      20      8     4      2   11   1.00   3831\n",
      "30   183   188      17      7     3      2   16   3.00   3564\n",
      "31   185   193      20      9     3      2   56   6.49   3765\n",
      "32   152   155      17      8     4      1   33   0.70   3361\n",
      "33   148   153      13      6     3      2   22   0.39   3950\n",
      "34   152   159      15      7     3      1   25   0.59   3055\n",
      "35   146   150      16      7     3      1   31   0.36   2950\n",
      "36   170   190      24     10     3      2   33   0.57   3346\n",
      "37   127   130      20      8     4      1   65   0.40   3334\n",
      "38   265   270      36     10     6      3   33   1.20   5853\n",
      "39   157   163      18      8     4      2   12   1.13   3982\n",
      "40   128   135      17      9     4      1   25   0.52   3374\n",
      "41   110   120      15      8     4      2   11   0.59   3119\n",
      "42   123   130      18      8     4      2   43   0.39   3268\n",
      "43   212   230      39     12     5      3  202   4.29   3648\n",
      "44   145   145      18      8     4      2   44   0.22   2783\n",
      "45   129   135      10      6     3      1   15   1.00   2438\n",
      "46   143   145      21      7     4      2   10   1.20   3529\n",
      "47   247   252      29      9     4      2    4   1.25   4626\n",
      "48   111   120      15      8     3      1   97   1.11   3205\n",
      "49   133   145      26      7     3      1   42   0.36   3059\n"
     ]
    }
   ],
   "source": [
    "df.rename(columns={'Sell': 'Sell', '\"List\"': 'List', '\"Living\"': 'Living','\"Rooms\"': 'Rooms', '\"Beds\"': 'Beds','\"Baths\"': 'Baths', '\"Age\"': 'Age','\"Acres\"': 'Acres', '\"Taxes\"': 'Taxes'}, inplace=True)\n",
    "df.columns = ['Sell','List', 'Living', 'Rooms','Beds', 'Baths', 'Age','Acres', 'Taxes']\n",
    "print(df)"
   ]
  },
  {
   "cell_type": "code",
   "execution_count": 409,
   "id": "17277eeb-032f-4484-983d-2666da095141",
   "metadata": {},
   "outputs": [
    {
     "data": {
      "image/png": "[encoded data removed]",
      "text/plain": [
       "<Figure size 640x480 with 1 Axes>"
      ]
     },
     "metadata": {},
     "output_type": "display_data"
    }
   ],
   "source": [
    "import matplotlib.pyplot as plt\n",
    "data = {'Sell': [142, 175, 129, 138, 232,135,150,207,271], \n",
    "        'List': [160, 180, 132, 140, 240,140,160,225,285]}\n",
    "df = pd.DataFrame(data)\n",
    "df.plot(x=df.columns[0], y=df.columns[1], kind='scatter')\n",
    "plt.xlabel(df.columns[0])\n",
    "plt.ylabel(df.columns[1])\n",
    "plt.title('Scatter Plot Comparing Selling and Listing Prices')\n",
    "plt.show()\n"
   ]
  },
  {
   "cell_type": "markdown",
   "id": "8ad39faf-492e-4ceb-bc45-160a0cf84e96",
   "metadata": {},
   "source": [
    "Above is a scatter plot against the selling price and listing price, using a sample of 10 homes. Based on this scatter plot, it seems there is a positive correlation between the two metrics. This relationship gives us insight as to whether a buyer is willing to pay more or less than what the seller is offering for the home. Given the results, we can assume the homebuyer bids less than the selling price. "
   ]
  },
  {
   "cell_type": "code",
   "execution_count": 411,
   "id": "8841f681-3905-45a6-9ed9-5405d622746d",
   "metadata": {},
   "outputs": [
    {
     "data": {
      "image/png": "[encoded data removed]",
      "text/plain": [
       "<Figure size 640x480 with 1 Axes>"
      ]
     },
     "metadata": {},
     "output_type": "display_data"
    }
   ],
   "source": [
    "import matplotlib.pyplot as plt\n",
    "data = {'Beds': [4,4,4,4,5,5,4,4,4,4,4,3,3,4,3], \n",
    "        'Baths': [2,2,3,2,2,2,2,1,1,4,2,2,2,1,2]}\n",
    "df = pd.DataFrame(data)\n",
    "df.plot(x=df.columns[0], y=df.columns[1], kind='bar')\n",
    "plt.xlabel(df.columns[0])\n",
    "plt.ylabel(df.columns[1])\n",
    "plt.title('Scatter Plot Comparing Number of Beds vs Baths')\n",
    "plt.show()"
   ]
  },
  {
   "cell_type": "markdown",
   "id": "fb314e7a-0edf-4199-87d0-ade481546e86",
   "metadata": {},
   "source": [
    "Above is a bar chart using a random sample data of 15 homes, comparing the number of beds and baths. Based on the above representation, we can assume most homes with 4 bedrooms also have 2 full baths."
   ]
  },
  {
   "cell_type": "code",
   "execution_count": 433,
   "id": "27592ab6-6204-4c3d-bec1-97bb4268ea59",
   "metadata": {},
   "outputs": [
    {
     "data": {
      "image/png": "[encoded data removed]",
      "text/plain": [
       "<Figure size 640x480 with 1 Axes>"
      ]
     },
     "metadata": {},
     "output_type": "display_data"
    }
   ],
   "source": [
    "import matplotlib.pyplot as plt\n",
    "data = {'Acres': [1.30, 0.30, 0.29, 0.43, 0.85, 1.00, 1.20, 1.13, 0.70, 1.20]}\n",
    "df = pd.DataFrame(data)\n",
    "df.boxplot(column=['Acres'])\n",
    "plt.ylim(-1, 2)\n",
    "plt.show()"
   ]
  },
  {
   "cell_type": "markdown",
   "id": "29b92199-026c-4691-8735-c154d8f77f5a",
   "metadata": {},
   "source": [
    "The above boxplot represents sample acreage data against 15 homes. The median acreage is somehwere between 0.85 and 1.0 acre. The minimum acreage is about 0.25 and maximum is 1.25. 50% of the values fall between 0.5 acres and 1.15 acres, while 25% of the values are either between 1.15-1.25 acres or 0.25-0.5 acres."
   ]
  },
  {
   "cell_type": "code",
   "execution_count": 450,
   "id": "e2984f93-74bd-4f5d-9eb6-f8aa655998db",
   "metadata": {
    "scrolled": true
   },
   "outputs": [
    {
     "name": "stdout",
     "output_type": "stream",
     "text": [
      "                            OLS Regression Results                            \n",
      "==============================================================================\n",
      "Dep. Variable:                   Sell   R-squared:                       0.809\n",
      "Model:                            OLS   Adj. R-squared:                  0.805\n",
      "Method:                 Least Squares   F-statistic:                     203.1\n",
      "Date:                Tue, 04 Mar 2025   Prob (F-statistic):           7.22e-19\n",
      "Time:                        14:07:58   Log-Likelihood:                -243.44\n",
      "No. Observations:                  50   AIC:                             490.9\n",
      "Df Residuals:                      48   BIC:                             494.7\n",
      "Df Model:                           1                                         \n",
      "Covariance Type:            nonrobust                                         \n",
      "==============================================================================\n",
      "                 coef    std err          t      P>|t|      [0.025      0.975]\n",
      "------------------------------------------------------------------------------\n",
      "const         16.8719     11.691      1.443      0.155      -6.635      40.378\n",
      "Taxes          0.0414      0.003     14.250      0.000       0.036       0.047\n",
      "==============================================================================\n",
      "Omnibus:                       28.767   Durbin-Watson:                   2.121\n",
      "Prob(Omnibus):                  0.000   Jarque-Bera (JB):               59.574\n",
      "Skew:                           1.690   Prob(JB):                     1.16e-13\n",
      "Kurtosis:                       7.144   Cond. No.                     1.03e+04\n",
      "==============================================================================\n",
      "\n",
      "Notes:\n",
      "[1] Standard Errors assume that the covariance matrix of the errors is correctly specified.\n",
      "[2] The condition number is large, 1.03e+04. This might indicate that there are\n",
      "strong multicollinearity or other numerical problems.\n"
     ]
    }
   ],
   "source": [
    "import pandas as pd\n",
    "df = pd.read_csv('/users/christinadeperro/desktop/OIM7502/OIM7502_SP25/data/homes.csv')\n",
    "df.rename(columns={'Sell': 'Sell', '\"List\"': 'List', '\"Living\"': 'Living','\"Rooms\"': 'Rooms', '\"Beds\"': 'Beds','\"Baths\"': 'Baths', '\"Age\"': 'Age','\"Acres\"': 'Acres', '\"Taxes\"': 'Taxes'}, inplace=True)\n",
    "df.columns = ['Sell','List', 'Living', 'Rooms','Beds', 'Baths', 'Age','Acres', 'Taxes']\n",
    "\n",
    "import statsmodels.api as sm\n",
    "y = df['Sell']\n",
    "X = df['Taxes'] \n",
    "X = sm.add_constant(X)\n",
    "model = sm.OLS(y, X).fit()\n",
    "print(model.summary())"
   ]
  },
  {
   "cell_type": "markdown",
   "id": "b67c1b74-3e6c-4ce6-9d14-568ed0473e12",
   "metadata": {},
   "source": [
    "The R-Square value of these results reflect how well the data fits in the models (with values closer to 1 represening a stronger fit). That said, the regression analysis works as a good model but not the most optimal. P-value for taxes is less than 0.05, indicating statistical significance, where there is a strong correlation between the selling prices and taxes. Due to the nature of this direct relationship that exists, we could assume with some level of confidence that an increase in the selling price will yield an increase in taxes. "
   ]
  },
  {
   "cell_type": "code",
   "execution_count": 456,
   "id": "17f5c7cd-9ad3-40df-abe1-d5722db844fd",
   "metadata": {},
   "outputs": [
    {
     "name": "stdout",
     "output_type": "stream",
     "text": [
      "                            OLS Regression Results                            \n",
      "==============================================================================\n",
      "Dep. Variable:                   Sell   R-squared:                       0.995\n",
      "Model:                            OLS   Adj. R-squared:                  0.995\n",
      "Method:                 Least Squares   F-statistic:                     9312.\n",
      "Date:                Tue, 04 Mar 2025   Prob (F-statistic):           1.26e-56\n",
      "Time:                        15:08:50   Log-Likelihood:                -152.97\n",
      "No. Observations:                  50   AIC:                             309.9\n",
      "Df Residuals:                      48   BIC:                             313.8\n",
      "Df Model:                           1                                         \n",
      "Covariance Type:            nonrobust                                         \n",
      "==============================================================================\n",
      "                 coef    std err          t      P>|t|      [0.025      0.975]\n",
      "------------------------------------------------------------------------------\n",
      "const          7.3274      1.846      3.969      0.000       3.615      11.039\n",
      "List           0.9142      0.009     96.499      0.000       0.895       0.933\n",
      "==============================================================================\n",
      "Omnibus:                        1.262   Durbin-Watson:                   1.883\n",
      "Prob(Omnibus):                  0.532   Jarque-Bera (JB):                1.119\n",
      "Skew:                          -0.355   Prob(JB):                        0.572\n",
      "Kurtosis:                       2.817   Cond. No.                         483.\n",
      "==============================================================================\n",
      "\n",
      "Notes:\n",
      "[1] Standard Errors assume that the covariance matrix of the errors is correctly specified.\n"
     ]
    }
   ],
   "source": [
    "import pandas as pd\n",
    "df = pd.read_csv('/users/christinadeperro/desktop/OIM7502/OIM7502_SP25/data/homes.csv')\n",
    "df.rename(columns={'Sell': 'Sell', '\"List\"': 'List', '\"Living\"': 'Living','\"Rooms\"': 'Rooms', '\"Beds\"': 'Beds','\"Baths\"': 'Baths', '\"Age\"': 'Age','\"Acres\"': 'Acres', '\"Taxes\"': 'Taxes'}, inplace=True)\n",
    "df.columns = ['Sell','List', 'Living', 'Rooms','Beds', 'Baths', 'Age','Acres', 'Taxes']\n",
    "\n",
    "import statsmodels.api as sm\n",
    "y = df['Sell']\n",
    "X = df['List'] \n",
    "X = sm.add_constant(X)\n",
    "model = sm.OLS(y, X).fit()\n",
    "print(model.summary())"
   ]
  },
  {
   "cell_type": "markdown",
   "id": "4abf9793-110f-47ec-a44b-61c287ac7949",
   "metadata": {},
   "source": [
    "The above regression analysis, using the selling price and listing price, is an optimal model given that the R-squared value is closer to 1 than the previous model. This is the better model. Based on the p-value reflected, we can assume there is a direct positive relationship between the selling price and listing price. When the listing price increased, the selling price decreases. Additionally, the larger t-value for lists indicates that there's more variability in the results, making it a more accurate representation. "
   ]
  },
  {
   "cell_type": "code",
   "execution_count": 463,
   "id": "ce85b74d-f8cb-420e-aea3-c08400dd0c67",
   "metadata": {},
   "outputs": [
    {
     "name": "stdout",
     "output_type": "stream",
     "text": [
      "                            OLS Regression Results                            \n",
      "==============================================================================\n",
      "Dep. Variable:                  Taxes   R-squared:                       0.004\n",
      "Model:                            OLS   Adj. R-squared:                 -0.017\n",
      "Method:                 Least Squares   F-statistic:                    0.1714\n",
      "Date:                Tue, 04 Mar 2025   Prob (F-statistic):              0.681\n",
      "Time:                        15:39:24   Log-Likelihood:                -438.61\n",
      "No. Observations:                  50   AIC:                             881.2\n",
      "Df Residuals:                      48   BIC:                             885.0\n",
      "Df Model:                           1                                         \n",
      "Covariance Type:            nonrobust                                         \n",
      "==============================================================================\n",
      "                 coef    std err          t      P>|t|      [0.025      0.975]\n",
      "------------------------------------------------------------------------------\n",
      "const       3625.3791    297.994     12.166      0.000    3026.221    4224.537\n",
      "Acres         79.0916    191.050      0.414      0.681    -305.040     463.223\n",
      "==============================================================================\n",
      "Omnibus:                       65.282   Durbin-Watson:                   1.899\n",
      "Prob(Omnibus):                  0.000   Jarque-Bera (JB):              588.564\n",
      "Skew:                           3.351   Prob(JB):                    1.57e-128\n",
      "Kurtosis:                      18.414   Cond. No.                         2.51\n",
      "==============================================================================\n",
      "\n",
      "Notes:\n",
      "[1] Standard Errors assume that the covariance matrix of the errors is correctly specified.\n"
     ]
    }
   ],
   "source": [
    "import pandas as pd\n",
    "df = pd.read_csv('/users/christinadeperro/desktop/OIM7502/OIM7502_SP25/data/homes.csv')\n",
    "df.rename(columns={'Sell': 'Sell', '\"List\"': 'List', '\"Living\"': 'Living','\"Rooms\"': 'Rooms', '\"Beds\"': 'Beds','\"Baths\"': 'Baths', '\"Age\"': 'Age','\"Acres\"': 'Acres', '\"Taxes\"': 'Taxes'}, inplace=True)\n",
    "df.columns = ['Sell','List', 'Living', 'Rooms','Beds', 'Baths', 'Age','Acres', 'Taxes']\n",
    "\n",
    "import statsmodels.api as sm\n",
    "y = df['Taxes']\n",
    "X = df['Acres'] \n",
    "X = sm.add_constant(X)\n",
    "model = sm.OLS(y, X).fit()\n",
    "print(model.summary())"
   ]
  },
  {
   "cell_type": "markdown",
   "id": "5e11d4fc-4513-42be-9a82-00f860a81403",
   "metadata": {},
   "source": [
    "A regression anaylsis was conducted where acreage is the independent variable and taxes represent the dependent variable. Logically, we know there is a direct relationship between the amount of land a homebuyer purchases and the amount of taxes they'll pay for the property. However, the above results show there is no correlation between the two variables. This is an incorrect assumption as there can still be a positive relationship that exists even though the p-value for acres is greater than 0.05. Additionally, we know this type of model is not the best fit for representing this kind of data based on the low R-squared value, which is much closer to 0 than 1. "
   ]
  }
 ],
 "metadata": {
  "kernelspec": {
   "display_name": "Python 3 (ipykernel)",
   "language": "python",
   "name": "python3"
  },
  "language_info": {
   "codemirror_mode": {
    "name": "ipython",
    "version": 3
   },
   "file_extension": ".py",
   "mimetype": "text/x-python",
   "name": "python",
   "nbconvert_exporter": "python",
   "pygments_lexer": "ipython3",
   "version": "3.12.4"
  }
 },
 "nbformat": 4,
 "nbformat_minor": 5
}
